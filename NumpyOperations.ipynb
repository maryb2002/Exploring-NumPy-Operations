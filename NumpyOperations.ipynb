{
  "nbformat": 4,
  "nbformat_minor": 0,
  "metadata": {
    "colab": {
      "provenance": [],
      "authorship_tag": "ABX9TyOooWWv7iTyKXNDWbnRDXub",
      "include_colab_link": true
    },
    "kernelspec": {
      "name": "python3",
      "display_name": "Python 3"
    },
    "language_info": {
      "name": "python"
    }
  },
  "cells": [
    {
      "cell_type": "markdown",
      "metadata": {
        "id": "view-in-github",
        "colab_type": "text"
      },
      "source": [
        "<a href=\"https://colab.research.google.com/github/maryb2002/Exploring-NumPy-Operations/blob/main/NumpyOperations.ipynb\" target=\"_parent\"><img src=\"https://colab.research.google.com/assets/colab-badge.svg\" alt=\"Open In Colab\"/></a>"
      ]
    },
    {
      "cell_type": "code",
      "execution_count": null,
      "metadata": {
        "id": "95TYi5ej4FWR"
      },
      "outputs": [],
      "source": [
        "import numpy as np"
      ]
    },
    {
      "cell_type": "code",
      "source": [
        "import numpy as np\n",
        "\n",
        "print(np.__version__)"
      ],
      "metadata": {
        "colab": {
          "base_uri": "https://localhost:8080/"
        },
        "id": "KnSZ-a544rhR",
        "outputId": "e95f6ee2-4f53-4c74-c0e2-cd093f558fc2"
      },
      "execution_count": null,
      "outputs": [
        {
          "output_type": "stream",
          "name": "stdout",
          "text": [
            "1.23.5\n"
          ]
        }
      ]
    },
    {
      "cell_type": "code",
      "source": [
        "array_1d = np.arange(10)\n",
        "\n",
        "print(array_1d)"
      ],
      "metadata": {
        "colab": {
          "base_uri": "https://localhost:8080/"
        },
        "id": "nNfU8nUK4wHI",
        "outputId": "a46d53a7-6edc-42bb-a916-127ac012ab8c"
      },
      "execution_count": null,
      "outputs": [
        {
          "output_type": "stream",
          "name": "stdout",
          "text": [
            "[0 1 2 3 4 5 6 7 8 9]\n"
          ]
        }
      ]
    },
    {
      "cell_type": "code",
      "source": [
        "random_vector = np.random.rand(10)\n",
        "\n",
        "max_index = np.argmax(random_vector)\n",
        "random_vector[max_index] = 0\n",
        "\n",
        "print(\"Random vector with the maximum value replaced by 0:\")\n",
        "print(random_vector)"
      ],
      "metadata": {
        "colab": {
          "base_uri": "https://localhost:8080/"
        },
        "id": "doWyoHpL4zZ7",
        "outputId": "24960b7a-b4ff-48c7-f595-99f209cce5a9"
      },
      "execution_count": null,
      "outputs": [
        {
          "output_type": "stream",
          "name": "stdout",
          "text": [
            "Random vector with the maximum value replaced by 0:\n",
            "[0.76639787 0.44334041 0.24000294 0.49405456 0.         0.70872987\n",
            " 0.48237594 0.1249378  0.78833911 0.01153059]\n"
          ]
        }
      ]
    },
    {
      "cell_type": "code",
      "source": [
        "arr = np.array([[1, 2, 3, 4, 5], [6, 7, 8, 9, 10]])\n",
        "\n",
        "number_to_find = 8\n",
        "indices = np.where(arr == number_to_find)\n",
        "\n",
        "print(\"Indices of the number 8:\")\n",
        "print(indices)\n",
        "\n",
        "found_value = arr[indices]\n",
        "print(\"The number 8 is at position:\", indices[0], indices[1])\n",
        "print(\"Value at that position:\", found_value)"
      ],
      "metadata": {
        "colab": {
          "base_uri": "https://localhost:8080/"
        },
        "id": "qm-Pfp-G45JZ",
        "outputId": "dad664be-d99b-4451-f80c-acc4c7874d28"
      },
      "execution_count": null,
      "outputs": [
        {
          "output_type": "stream",
          "name": "stdout",
          "text": [
            "Indices of the number 8:\n",
            "(array([1]), array([2]))\n",
            "The number 8 is at position: [1] [2]\n",
            "Value at that position: [8]\n"
          ]
        }
      ]
    },
    {
      "cell_type": "code",
      "source": [
        "arr = np.array([1, 2, 3, 4, 5, 6, 7])\n",
        "\n",
        "subset = arr[2:5]\n",
        "\n",
        "print(\"The numbers [3, 4, 5] from the array:\")\n",
        "print(subset)"
      ],
      "metadata": {
        "colab": {
          "base_uri": "https://localhost:8080/"
        },
        "id": "FLdRtMCD4-Iv",
        "outputId": "ca5cf53b-59d7-473b-e833-452a25003749"
      },
      "execution_count": null,
      "outputs": [
        {
          "output_type": "stream",
          "name": "stdout",
          "text": [
            "The numbers [3, 4, 5] from the array:\n",
            "[3 4 5]\n"
          ]
        }
      ]
    },
    {
      "cell_type": "code",
      "source": [
        "arr = np.array([1, 2, 3, 4, 5, 6, 7])\n",
        "\n",
        "a = arr[-4:]\n",
        "\n",
        "print(\"The last 4 numbers from the array:\")\n",
        "print(a)"
      ],
      "metadata": {
        "colab": {
          "base_uri": "https://localhost:8080/"
        },
        "id": "f30EV3Sm5AoE",
        "outputId": "f0276f30-9685-4a1a-e4f1-4037460259a5"
      },
      "execution_count": null,
      "outputs": [
        {
          "output_type": "stream",
          "name": "stdout",
          "text": [
            "The last 4 numbers from the array:\n",
            "[4 5 6 7]\n"
          ]
        }
      ]
    },
    {
      "cell_type": "code",
      "source": [
        "t = np.ones((2, 2), dtype=bool)\n",
        "\n",
        "print(t)"
      ],
      "metadata": {
        "colab": {
          "base_uri": "https://localhost:8080/"
        },
        "id": "PkA2E0O25FTi",
        "outputId": "cf6a06b6-6275-4a21-f730-d8e836cb83ed"
      },
      "execution_count": null,
      "outputs": [
        {
          "output_type": "stream",
          "name": "stdout",
          "text": [
            "[[ True  True]\n",
            " [ True  True]]\n"
          ]
        }
      ]
    },
    {
      "cell_type": "code",
      "source": [
        "arr = np.array([1, 2, 3, 4, 5, 6, 7, 8, 9])\n",
        "\n",
        "odd_numbers = arr[arr % 2 == 1]\n",
        "\n",
        "print(\"Odd numbers from the array:\")\n",
        "print(odd_numbers)"
      ],
      "metadata": {
        "colab": {
          "base_uri": "https://localhost:8080/"
        },
        "id": "ZbxT_WQY5IVY",
        "outputId": "7feff408-9845-4b42-f0a5-072217480df1"
      },
      "execution_count": null,
      "outputs": [
        {
          "output_type": "stream",
          "name": "stdout",
          "text": [
            "Odd numbers from the array:\n",
            "[1 3 5 7 9]\n"
          ]
        }
      ]
    },
    {
      "cell_type": "code",
      "source": [
        "vector = np.arange(10, 50)\n",
        "\n",
        "print(vector)"
      ],
      "metadata": {
        "colab": {
          "base_uri": "https://localhost:8080/"
        },
        "id": "iry_-eB45LXr",
        "outputId": "8769b47f-3ad0-4904-dff5-5d883356958f"
      },
      "execution_count": null,
      "outputs": [
        {
          "output_type": "stream",
          "name": "stdout",
          "text": [
            "[10 11 12 13 14 15 16 17 18 19 20 21 22 23 24 25 26 27 28 29 30 31 32 33\n",
            " 34 35 36 37 38 39 40 41 42 43 44 45 46 47 48 49]\n"
          ]
        }
      ]
    },
    {
      "cell_type": "code",
      "source": [
        "vector = np.arange(10, 50)\n",
        "\n",
        "reversed_vector = vector[::-1]\n",
        "\n",
        "print(reversed_vector)"
      ],
      "metadata": {
        "colab": {
          "base_uri": "https://localhost:8080/"
        },
        "id": "9Kun5alV5Nfk",
        "outputId": "392ac5c5-311b-4255-c514-734cc511e0d0"
      },
      "execution_count": null,
      "outputs": [
        {
          "output_type": "stream",
          "name": "stdout",
          "text": [
            "[49 48 47 46 45 44 43 42 41 40 39 38 37 36 35 34 33 32 31 30 29 28 27 26\n",
            " 25 24 23 22 21 20 19 18 17 16 15 14 13 12 11 10]\n"
          ]
        }
      ]
    },
    {
      "cell_type": "code",
      "source": [
        "random_array = np.random.randint(0, 101, size=(10, 10))\n",
        "\n",
        "min_value = np.min(random_array)\n",
        "max_value = np.max(random_array)\n",
        "\n",
        "print(\"Random Array:\")\n",
        "print(random_array)\n",
        "print(\"Minimum Value:\", min_value)\n",
        "print(\"Maximum Value:\", max_value)"
      ],
      "metadata": {
        "colab": {
          "base_uri": "https://localhost:8080/"
        },
        "id": "gd6GaLIK5Q7u",
        "outputId": "530576df-5486-4a18-8923-abff21ef3ecd"
      },
      "execution_count": null,
      "outputs": [
        {
          "output_type": "stream",
          "name": "stdout",
          "text": [
            "Random Array:\n",
            "[[ 93  74  77  91  99  34  25  48   2  92]\n",
            " [ 90  75  76   6  71  13  51   6  42  49]\n",
            " [ 52   3  35  41  11  59  63  78   1  86]\n",
            " [ 31  90  25  40  80  54  26  44  83  48]\n",
            " [ 27  47  37  30  14  45  10  66  13  97]\n",
            " [ 90  89  91  19  82  50  31  89  32  29]\n",
            " [ 73  76  28  44  86  46  89  45  85  90]\n",
            " [ 35  56  38  60   3  15  98 100  45  60]\n",
            " [ 54  32  15  33  25  96  36  78   1  55]\n",
            " [ 96  60  75  59  23  68  31  79  88  89]]\n",
            "Minimum Value: 1\n",
            "Maximum Value: 100\n"
          ]
        }
      ]
    },
    {
      "cell_type": "code",
      "source": [
        "randon = np.random.rand(3, 3, 3)\n",
        "\n",
        "print(randon)"
      ],
      "metadata": {
        "colab": {
          "base_uri": "https://localhost:8080/"
        },
        "id": "45FWvL5l5UwU",
        "outputId": "73ecece5-c3d2-4d0f-eeb2-07a3179cd46d"
      },
      "execution_count": null,
      "outputs": [
        {
          "output_type": "stream",
          "name": "stdout",
          "text": [
            "[[[0.72625862 0.95446903 0.81838454]\n",
            "  [0.41225191 0.69147558 0.49916902]\n",
            "  [0.21475657 0.47552144 0.13823194]]\n",
            "\n",
            " [[0.59685572 0.08907355 0.94865203]\n",
            "  [0.29700216 0.97187806 0.62227297]\n",
            "  [0.89253023 0.51253688 0.45368651]]\n",
            "\n",
            " [[0.41375129 0.59459249 0.03301919]\n",
            "  [0.83044448 0.37814465 0.72246247]\n",
            "  [0.22883711 0.54263957 0.86027384]]]\n"
          ]
        }
      ]
    },
    {
      "cell_type": "code",
      "source": [
        "import numpy as np\n",
        "\n",
        "arr = np.array([1, 2, 3, 4, 5, 6, 7, 8, 9])\n",
        "arr[arr % 2 == 1] = -1\n",
        "\n",
        "print(\"Modified array with odd numbers replaced by -1:\")\n",
        "print(arr)"
      ],
      "metadata": {
        "colab": {
          "base_uri": "https://localhost:8080/"
        },
        "id": "l_dLOKfK5Xsv",
        "outputId": "b59abdc0-41b3-4281-e9b1-c87e2c16b222"
      },
      "execution_count": null,
      "outputs": [
        {
          "output_type": "stream",
          "name": "stdout",
          "text": [
            "Modified array with odd numbers replaced by -1:\n",
            "[-1  2 -1  4 -1  6 -1  8 -1]\n"
          ]
        }
      ]
    },
    {
      "cell_type": "code",
      "source": [
        "float_array = np.array([1.3, 2.5, 3.7, 4.2])\n",
        "print(float_array)"
      ],
      "metadata": {
        "colab": {
          "base_uri": "https://localhost:8080/"
        },
        "id": "PKZDQiIP5bm1",
        "outputId": "eda1891d-8ff7-4ab2-e189-dc4b0500c89a"
      },
      "execution_count": null,
      "outputs": [
        {
          "output_type": "stream",
          "name": "stdout",
          "text": [
            "[1.3 2.5 3.7 4.2]\n"
          ]
        }
      ]
    },
    {
      "cell_type": "code",
      "source": [
        "arr_1d = np.array([1, 2, 3, 4, 5, 6, 7, 8])\n",
        "arr_2d = arr_1d.reshape(2, -1)\n",
        "\n",
        "print(\"1D Array:\")\n",
        "print(arr_1d)\n",
        "\n",
        "print(\"2D Array with 2 rows:\")\n",
        "print(arr_2d)"
      ],
      "metadata": {
        "colab": {
          "base_uri": "https://localhost:8080/"
        },
        "id": "ViRLpcBd5epy",
        "outputId": "0a185f82-b9d9-4779-817f-5cf13d2c84bb"
      },
      "execution_count": null,
      "outputs": [
        {
          "output_type": "stream",
          "name": "stdout",
          "text": [
            "1D Array:\n",
            "[1 2 3 4 5 6 7 8]\n",
            "2D Array with 2 rows:\n",
            "[[1 2 3 4]\n",
            " [5 6 7 8]]\n"
          ]
        }
      ]
    },
    {
      "cell_type": "code",
      "source": [
        "Z1 = np.random.randint(0, 10, 10)\n",
        "Z2 = np.random.randint(0, 10, 10)\n",
        "common_values = np.intersect1d(Z1, Z2)\n",
        "\n",
        "print(\"Array Z1:\", Z1)\n",
        "print(\"Array Z2:\", Z2)\n",
        "print(\"Common values:\", common_values)"
      ],
      "metadata": {
        "colab": {
          "base_uri": "https://localhost:8080/"
        },
        "id": "YVAE2rs55i1z",
        "outputId": "58ab0744-25f1-4af0-85ae-78aa0d1abce2"
      },
      "execution_count": null,
      "outputs": [
        {
          "output_type": "stream",
          "name": "stdout",
          "text": [
            "Array Z1: [9 6 3 3 6 2 8 2 2 2]\n",
            "Array Z2: [6 3 1 1 5 6 9 0 8 8]\n",
            "Common values: [3 6 8 9]\n"
          ]
        }
      ]
    },
    {
      "cell_type": "code",
      "source": [
        "A = np.random.randint(0, 2, 5)\n",
        "B = np.random.randint(0, 2, 5)\n",
        "are_equal = np.array_equal(A, B)\n",
        "\n",
        "print(\"Array A:\", A)\n",
        "print(\"Array B:\", B)\n",
        "print(\"Are A and B equal?\", are_equal)"
      ],
      "metadata": {
        "colab": {
          "base_uri": "https://localhost:8080/"
        },
        "id": "oixfj3T95m11",
        "outputId": "ae5c664a-cd63-4235-88bc-fb4e1e534c86"
      },
      "execution_count": null,
      "outputs": [
        {
          "output_type": "stream",
          "name": "stdout",
          "text": [
            "Array A: [0 0 0 1 0]\n",
            "Array B: [0 1 1 0 0]\n",
            "Are A and B equal? False\n"
          ]
        }
      ]
    },
    {
      "cell_type": "code",
      "source": [
        "a = np.array([0, 2, 5])\n",
        "b = np.array([0, 2, 5])\n",
        "stacked_array = np.vstack((a, b))\n",
        "\n",
        "print(\"Array a:\")\n",
        "print(a)\n",
        "\n",
        "print(\"Array b:\")\n",
        "print(b)\n",
        "\n",
        "print(\"Stacked array (vertically):\")\n",
        "print(stacked_array)"
      ],
      "metadata": {
        "colab": {
          "base_uri": "https://localhost:8080/"
        },
        "id": "dD3pO9E-5qTv",
        "outputId": "54859e47-09ac-4e34-9b6d-f7ecce9dc784"
      },
      "execution_count": null,
      "outputs": [
        {
          "output_type": "stream",
          "name": "stdout",
          "text": [
            "Array a:\n",
            "[0 2 5]\n",
            "Array b:\n",
            "[0 2 5]\n",
            "Stacked array (vertically):\n",
            "[[0 2 5]\n",
            " [0 2 5]]\n"
          ]
        }
      ]
    },
    {
      "cell_type": "code",
      "source": [
        "a = np.array([0, 2, 5])\n",
        "b = np.array([0, 2, 5])\n",
        "stacked_array = np.hstack((a, b))\n",
        "\n",
        "print(\"Array a:\")\n",
        "print(a)\n",
        "\n",
        "print(\"Array b:\")\n",
        "print(b)\n",
        "\n",
        "print(\"Stacked array (horizontally):\")\n",
        "print(stacked_array)"
      ],
      "metadata": {
        "colab": {
          "base_uri": "https://localhost:8080/"
        },
        "id": "_lAXyP525vaW",
        "outputId": "c9426138-d8a5-4ba5-ab22-e5aa006379d7"
      },
      "execution_count": null,
      "outputs": [
        {
          "output_type": "stream",
          "name": "stdout",
          "text": [
            "Array a:\n",
            "[0 2 5]\n",
            "Array b:\n",
            "[0 2 5]\n",
            "Stacked array (horizontally):\n",
            "[0 2 5 0 2 5]\n"
          ]
        }
      ]
    },
    {
      "cell_type": "code",
      "source": [
        "tmp = np.arange(15)\n",
        "mask = (tmp >= 5) & (tmp <= 10)\n",
        "result = tmp[mask]\n",
        "\n",
        "print(\"Array tmp:\")\n",
        "print(tmp)\n",
        "\n",
        "print(\"Items between 5 and 10:\")\n",
        "print(result)"
      ],
      "metadata": {
        "colab": {
          "base_uri": "https://localhost:8080/"
        },
        "id": "DS4EcA9050mV",
        "outputId": "962d2314-4e4f-4243-c9d9-1e470c6a6ddc"
      },
      "execution_count": null,
      "outputs": [
        {
          "output_type": "stream",
          "name": "stdout",
          "text": [
            "Array tmp:\n",
            "[ 0  1  2  3  4  5  6  7  8  9 10 11 12 13 14]\n",
            "Items between 5 and 10:\n",
            "[ 5  6  7  8  9 10]\n"
          ]
        }
      ]
    },
    {
      "cell_type": "code",
      "source": [
        "def pair_max(a, b):\n",
        "    \"\"\"Get the element-wise maximum of two arrays a and b.\"\"\"\n",
        "    return np.maximum(a, b)\n",
        "\n",
        "a = np.array([5, 7, 9, 8, 6, 4, 5])\n",
        "b = np.array([6, 3, 4, 8, 9, 7, 1])\n",
        "\n",
        "result = pair_max(a, b)\n",
        "print(result)"
      ],
      "metadata": {
        "colab": {
          "base_uri": "https://localhost:8080/"
        },
        "id": "-8ompwCC55MH",
        "outputId": "1e60a6b6-b3c8-4479-f1a9-e9597c2371c4"
      },
      "execution_count": null,
      "outputs": [
        {
          "output_type": "stream",
          "name": "stdout",
          "text": [
            "[6 7 9 8 9 7 5]\n"
          ]
        }
      ]
    },
    {
      "cell_type": "code",
      "source": [
        "arr = np.arange(9).reshape(3, 3)\n",
        "print(\"Original array:\")\n",
        "print(arr)\n",
        "arr[:, [1, 2]] = arr[:, [2, 1]]\n",
        "\n",
        "print(\"Array after swapping columns 1 and 2:\")\n",
        "print(arr)"
      ],
      "metadata": {
        "colab": {
          "base_uri": "https://localhost:8080/"
        },
        "id": "m6fpJbEq58zE",
        "outputId": "c357c599-4562-4cef-c819-ff37d465d6ee"
      },
      "execution_count": null,
      "outputs": [
        {
          "output_type": "stream",
          "name": "stdout",
          "text": [
            "Original array:\n",
            "[[0 1 2]\n",
            " [3 4 5]\n",
            " [6 7 8]]\n",
            "Array after swapping columns 1 and 2:\n",
            "[[0 2 1]\n",
            " [3 5 4]\n",
            " [6 8 7]]\n"
          ]
        }
      ]
    },
    {
      "cell_type": "code",
      "source": [
        "random_array = np.random.uniform(5, 10, size=(5, 3))\n",
        "print(random_array)"
      ],
      "metadata": {
        "id": "wZcjcnXn5_bJ",
        "outputId": "2ddce00f-4e89-4d6e-c8f4-14a4e86ff279",
        "colab": {
          "base_uri": "https://localhost:8080/"
        }
      },
      "execution_count": null,
      "outputs": [
        {
          "output_type": "stream",
          "name": "stdout",
          "text": [
            "[[5.78587404 6.50345848 5.38143376]\n",
            " [7.25235658 7.33681963 7.28473441]\n",
            " [6.6692437  5.68738312 9.02319587]\n",
            " [9.57774524 9.95388847 7.02586235]\n",
            " [5.24585111 9.53064721 9.74516757]]\n"
          ]
        }
      ]
    }
  ]
}